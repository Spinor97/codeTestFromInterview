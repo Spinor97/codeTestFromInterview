{
 "cells": [
  {
   "cell_type": "code",
   "execution_count": 1,
   "metadata": {},
   "outputs": [],
   "source": [
    "import pandas as pd\n",
    "import numpy as np\n",
    "import matplotlib.pyplot as plt"
   ]
  },
  {
   "cell_type": "code",
   "execution_count": 2,
   "metadata": {},
   "outputs": [],
   "source": [
    "df = pd.read_csv(\"./scandi.csv\", usecols=range(12), header=None)\n",
    "cc = pd.read_csv(\"./scandi.csv\", usecols=[14], header=None)"
   ]
  },
  {
   "cell_type": "code",
   "execution_count": 3,
   "metadata": {},
   "outputs": [],
   "source": [
    "df = df.join(cc)"
   ]
  },
  {
   "cell_type": "code",
   "execution_count": 4,
   "metadata": {},
   "outputs": [],
   "source": [
    "df.drop([1, 9], axis=1, inplace=True)"
   ]
  },
  {
   "cell_type": "code",
   "execution_count": 5,
   "metadata": {},
   "outputs": [
    {
     "data": {
      "text/plain": [
       "14\n",
       "@1      124593\n",
       "XT       49458\n",
       "UT|C      8408\n",
       "UT|O      3135\n",
       "XT|C      1438\n",
       "XT|O       324\n",
       "OTC        320\n",
       "M           22\n",
       "UT|H         1\n",
       "Name: count, dtype: int64"
      ]
     },
     "execution_count": 5,
     "metadata": {},
     "output_type": "execute_result"
    }
   ],
   "source": [
    "df.iloc[:, -1].value_counts()"
   ]
  },
  {
   "cell_type": "code",
   "execution_count": 6,
   "metadata": {},
   "outputs": [],
   "source": [
    "df.columns = ['Stock identifier', 'Bid Price', 'Ask Price', 'Trade Price', 'Bid Volume',\n",
    "               'Ask Volume', 'Trade Volume', 'Update type', 'Date', 'Time in seconds past midnight',\n",
    "               'Condition codes']"
   ]
  },
  {
   "cell_type": "code",
   "execution_count": 7,
   "metadata": {},
   "outputs": [],
   "source": [
    "df_selected = df[df['Condition codes'].isnull()  | df['Condition codes'].isin(['@1', 'XT'])]"
   ]
  },
  {
   "cell_type": "code",
   "execution_count": 8,
   "metadata": {},
   "outputs": [
    {
     "data": {
      "text/html": [
       "<div>\n",
       "<style scoped>\n",
       "    .dataframe tbody tr th:only-of-type {\n",
       "        vertical-align: middle;\n",
       "    }\n",
       "\n",
       "    .dataframe tbody tr th {\n",
       "        vertical-align: top;\n",
       "    }\n",
       "\n",
       "    .dataframe thead th {\n",
       "        text-align: right;\n",
       "    }\n",
       "</style>\n",
       "<table border=\"1\" class=\"dataframe\">\n",
       "  <thead>\n",
       "    <tr style=\"text-align: right;\">\n",
       "      <th></th>\n",
       "      <th>Stock identifier</th>\n",
       "      <th>Bid Price</th>\n",
       "      <th>Ask Price</th>\n",
       "      <th>Trade Price</th>\n",
       "      <th>Bid Volume</th>\n",
       "      <th>Ask Volume</th>\n",
       "      <th>Trade Volume</th>\n",
       "      <th>Update type</th>\n",
       "      <th>Date</th>\n",
       "      <th>Time in seconds past midnight</th>\n",
       "      <th>Condition codes</th>\n",
       "    </tr>\n",
       "  </thead>\n",
       "  <tbody>\n",
       "    <tr>\n",
       "      <th>0</th>\n",
       "      <td>BBHBEAT Index</td>\n",
       "      <td>121.4</td>\n",
       "      <td>125.4</td>\n",
       "      <td>123.4</td>\n",
       "      <td>1234</td>\n",
       "      <td>1234</td>\n",
       "      <td>1234</td>\n",
       "      <td>2</td>\n",
       "      <td>20150420</td>\n",
       "      <td>28264.0</td>\n",
       "      <td>@1</td>\n",
       "    </tr>\n",
       "    <tr>\n",
       "      <th>1</th>\n",
       "      <td>BBHBEAT Index</td>\n",
       "      <td>121.4</td>\n",
       "      <td>125.4</td>\n",
       "      <td>123.4</td>\n",
       "      <td>1234</td>\n",
       "      <td>1234</td>\n",
       "      <td>1234</td>\n",
       "      <td>2</td>\n",
       "      <td>20150420</td>\n",
       "      <td>28265.0</td>\n",
       "      <td>@1</td>\n",
       "    </tr>\n",
       "    <tr>\n",
       "      <th>2</th>\n",
       "      <td>BBHBEAT Index</td>\n",
       "      <td>121.4</td>\n",
       "      <td>125.4</td>\n",
       "      <td>123.4</td>\n",
       "      <td>1234</td>\n",
       "      <td>1234</td>\n",
       "      <td>1234</td>\n",
       "      <td>2</td>\n",
       "      <td>20150420</td>\n",
       "      <td>28266.0</td>\n",
       "      <td>@1</td>\n",
       "    </tr>\n",
       "    <tr>\n",
       "      <th>3</th>\n",
       "      <td>BBHBEAT Index</td>\n",
       "      <td>121.4</td>\n",
       "      <td>125.4</td>\n",
       "      <td>123.4</td>\n",
       "      <td>1234</td>\n",
       "      <td>1234</td>\n",
       "      <td>1234</td>\n",
       "      <td>2</td>\n",
       "      <td>20150420</td>\n",
       "      <td>28267.0</td>\n",
       "      <td>@1</td>\n",
       "    </tr>\n",
       "    <tr>\n",
       "      <th>4</th>\n",
       "      <td>BBHBEAT Index</td>\n",
       "      <td>121.4</td>\n",
       "      <td>125.4</td>\n",
       "      <td>123.4</td>\n",
       "      <td>1234</td>\n",
       "      <td>1234</td>\n",
       "      <td>1234</td>\n",
       "      <td>2</td>\n",
       "      <td>20150420</td>\n",
       "      <td>28268.0</td>\n",
       "      <td>@1</td>\n",
       "    </tr>\n",
       "  </tbody>\n",
       "</table>\n",
       "</div>"
      ],
      "text/plain": [
       "  Stock identifier  Bid Price  Ask Price  Trade Price  Bid Volume  Ask Volume  \\\n",
       "0    BBHBEAT Index      121.4      125.4        123.4        1234        1234   \n",
       "1    BBHBEAT Index      121.4      125.4        123.4        1234        1234   \n",
       "2    BBHBEAT Index      121.4      125.4        123.4        1234        1234   \n",
       "3    BBHBEAT Index      121.4      125.4        123.4        1234        1234   \n",
       "4    BBHBEAT Index      121.4      125.4        123.4        1234        1234   \n",
       "\n",
       "   Trade Volume  Update type      Date  Time in seconds past midnight  \\\n",
       "0          1234            2  20150420                        28264.0   \n",
       "1          1234            2  20150420                        28265.0   \n",
       "2          1234            2  20150420                        28266.0   \n",
       "3          1234            2  20150420                        28267.0   \n",
       "4          1234            2  20150420                        28268.0   \n",
       "\n",
       "  Condition codes  \n",
       "0              @1  \n",
       "1              @1  \n",
       "2              @1  \n",
       "3              @1  \n",
       "4              @1  "
      ]
     },
     "execution_count": 8,
     "metadata": {},
     "output_type": "execute_result"
    }
   ],
   "source": [
    "df_selected.head()"
   ]
  },
  {
   "cell_type": "code",
   "execution_count": 9,
   "metadata": {},
   "outputs": [],
   "source": [
    "dates = df_selected['Date'].apply(str)"
   ]
  },
  {
   "cell_type": "code",
   "execution_count": 10,
   "metadata": {},
   "outputs": [],
   "source": [
    "dates = pd.to_datetime(dates)"
   ]
  },
  {
   "cell_type": "code",
   "execution_count": 11,
   "metadata": {},
   "outputs": [],
   "source": [
    "import datetime\n",
    "times = df_selected['Time in seconds past midnight'].apply(lambda x: datetime.timedelta(seconds=x))"
   ]
  },
  {
   "cell_type": "code",
   "execution_count": 12,
   "metadata": {},
   "outputs": [],
   "source": [
    "df_selected.index = dates + times"
   ]
  },
  {
   "cell_type": "code",
   "execution_count": 13,
   "metadata": {},
   "outputs": [],
   "source": [
    "df_selected = df_selected.drop(['Time in seconds past midnight', 'Condition codes'], axis=1)"
   ]
  },
  {
   "cell_type": "code",
   "execution_count": 14,
   "metadata": {},
   "outputs": [
    {
     "data": {
      "text/html": [
       "<div>\n",
       "<style scoped>\n",
       "    .dataframe tbody tr th:only-of-type {\n",
       "        vertical-align: middle;\n",
       "    }\n",
       "\n",
       "    .dataframe tbody tr th {\n",
       "        vertical-align: top;\n",
       "    }\n",
       "\n",
       "    .dataframe thead th {\n",
       "        text-align: right;\n",
       "    }\n",
       "</style>\n",
       "<table border=\"1\" class=\"dataframe\">\n",
       "  <thead>\n",
       "    <tr style=\"text-align: right;\">\n",
       "      <th></th>\n",
       "      <th>Stock identifier</th>\n",
       "      <th>Bid Price</th>\n",
       "      <th>Ask Price</th>\n",
       "      <th>Trade Price</th>\n",
       "      <th>Bid Volume</th>\n",
       "      <th>Ask Volume</th>\n",
       "      <th>Trade Volume</th>\n",
       "      <th>Update type</th>\n",
       "      <th>Date</th>\n",
       "    </tr>\n",
       "  </thead>\n",
       "  <tbody>\n",
       "    <tr>\n",
       "      <th>2015-04-20 07:51:04</th>\n",
       "      <td>BBHBEAT Index</td>\n",
       "      <td>121.4</td>\n",
       "      <td>125.4</td>\n",
       "      <td>123.4</td>\n",
       "      <td>1234</td>\n",
       "      <td>1234</td>\n",
       "      <td>1234</td>\n",
       "      <td>2</td>\n",
       "      <td>20150420</td>\n",
       "    </tr>\n",
       "    <tr>\n",
       "      <th>2015-04-20 07:51:05</th>\n",
       "      <td>BBHBEAT Index</td>\n",
       "      <td>121.4</td>\n",
       "      <td>125.4</td>\n",
       "      <td>123.4</td>\n",
       "      <td>1234</td>\n",
       "      <td>1234</td>\n",
       "      <td>1234</td>\n",
       "      <td>2</td>\n",
       "      <td>20150420</td>\n",
       "    </tr>\n",
       "    <tr>\n",
       "      <th>2015-04-20 07:51:06</th>\n",
       "      <td>BBHBEAT Index</td>\n",
       "      <td>121.4</td>\n",
       "      <td>125.4</td>\n",
       "      <td>123.4</td>\n",
       "      <td>1234</td>\n",
       "      <td>1234</td>\n",
       "      <td>1234</td>\n",
       "      <td>2</td>\n",
       "      <td>20150420</td>\n",
       "    </tr>\n",
       "    <tr>\n",
       "      <th>2015-04-20 07:51:07</th>\n",
       "      <td>BBHBEAT Index</td>\n",
       "      <td>121.4</td>\n",
       "      <td>125.4</td>\n",
       "      <td>123.4</td>\n",
       "      <td>1234</td>\n",
       "      <td>1234</td>\n",
       "      <td>1234</td>\n",
       "      <td>2</td>\n",
       "      <td>20150420</td>\n",
       "    </tr>\n",
       "    <tr>\n",
       "      <th>2015-04-20 07:51:08</th>\n",
       "      <td>BBHBEAT Index</td>\n",
       "      <td>121.4</td>\n",
       "      <td>125.4</td>\n",
       "      <td>123.4</td>\n",
       "      <td>1234</td>\n",
       "      <td>1234</td>\n",
       "      <td>1234</td>\n",
       "      <td>2</td>\n",
       "      <td>20150420</td>\n",
       "    </tr>\n",
       "  </tbody>\n",
       "</table>\n",
       "</div>"
      ],
      "text/plain": [
       "                    Stock identifier  Bid Price  Ask Price  Trade Price  \\\n",
       "2015-04-20 07:51:04    BBHBEAT Index      121.4      125.4        123.4   \n",
       "2015-04-20 07:51:05    BBHBEAT Index      121.4      125.4        123.4   \n",
       "2015-04-20 07:51:06    BBHBEAT Index      121.4      125.4        123.4   \n",
       "2015-04-20 07:51:07    BBHBEAT Index      121.4      125.4        123.4   \n",
       "2015-04-20 07:51:08    BBHBEAT Index      121.4      125.4        123.4   \n",
       "\n",
       "                     Bid Volume  Ask Volume  Trade Volume  Update type  \\\n",
       "2015-04-20 07:51:04        1234        1234          1234            2   \n",
       "2015-04-20 07:51:05        1234        1234          1234            2   \n",
       "2015-04-20 07:51:06        1234        1234          1234            2   \n",
       "2015-04-20 07:51:07        1234        1234          1234            2   \n",
       "2015-04-20 07:51:08        1234        1234          1234            2   \n",
       "\n",
       "                         Date  \n",
       "2015-04-20 07:51:04  20150420  \n",
       "2015-04-20 07:51:05  20150420  \n",
       "2015-04-20 07:51:06  20150420  \n",
       "2015-04-20 07:51:07  20150420  \n",
       "2015-04-20 07:51:08  20150420  "
      ]
     },
     "execution_count": 14,
     "metadata": {},
     "output_type": "execute_result"
    }
   ],
   "source": [
    "df_selected.head()"
   ]
  },
  {
   "cell_type": "code",
   "execution_count": 15,
   "metadata": {},
   "outputs": [],
   "source": [
    "grouped = df_selected.groupby('Stock identifier')"
   ]
  },
  {
   "cell_type": "code",
   "execution_count": 16,
   "metadata": {},
   "outputs": [
    {
     "name": "stdout",
     "output_type": "stream",
     "text": [
      "For the stock ABB SS Equity, we have 184194 data\n",
      "For the stock AKA NO Equity, we have 20931 data\n",
      "For the stock AKSO NO Equity, we have 53439 data\n",
      "For the stock ALFA SS Equity, we have 145090 data\n",
      "For the stock AMEAS FH Equity, we have 61829 data\n",
      "For the stock ASSAB SS Equity, we have 107227 data\n",
      "For the stock ATCOA SS Equity, we have 222007 data\n",
      "For the stock ATCOB SS Equity, we have 111276 data\n",
      "For the stock AZN SS Equity, we have 267650 data\n",
      "For the stock BBHBEAT Index, we have 124593 data\n",
      "For the stock BOL SS Equity, we have 175805 data\n",
      "For the stock BWLPG NO Equity, we have 26941 data\n",
      "For the stock CARLB DC Equity, we have 76237 data\n",
      "For the stock CGCBV FH Equity, we have 59605 data\n",
      "For the stock CHR DC Equity, we have 76430 data\n",
      "For the stock COLOB DC Equity, we have 64462 data\n",
      "For the stock DANSKE DC Equity, we have 142439 data\n",
      "For the stock DETNOR NO Equity, we have 42495 data\n",
      "For the stock DNB NO Equity, we have 154020 data\n",
      "For the stock DNO NO Equity, we have 82540 data\n",
      "For the stock DSV DC Equity, we have 92953 data\n",
      "For the stock ELI1V FH Equity, we have 94182 data\n",
      "For the stock ELUXB SS Equity, we have 201790 data\n",
      "For the stock ERICB SS Equity, we have 289959 data\n",
      "For the stock FLS DC Equity, we have 105321 data\n",
      "For the stock FOE NO Equity, we have 48029 data\n",
      "For the stock FUM1V FH Equity, we have 111292 data\n",
      "For the stock GEN DC Equity, we have 54696 data\n",
      "For the stock GETIB SS Equity, we have 166773 data\n",
      "For the stock GJF NO Equity, we have 44231 data\n",
      "For the stock GN DC Equity, we have 47309 data\n",
      "For the stock HMB SS Equity, we have 232505 data\n",
      "For the stock HUH1V FH Equity, we have 70644 data\n",
      "For the stock INVEB SS Equity, we have 183471 data\n",
      "For the stock ISS DC Equity, we have 39481 data\n",
      "For the stock JYSK DC Equity, we have 76024 data\n",
      "For the stock KCR1V FH Equity, we have 52747 data\n",
      "For the stock KESBV FH Equity, we have 72412 data\n",
      "For the stock KINVB SS Equity, we have 123691 data\n",
      "For the stock KNEBV FH Equity, we have 210314 data\n",
      "For the stock KRA1V FH Equity, we have 28279 data\n",
      "For the stock LUPE SS Equity, we have 136852 data\n",
      "For the stock MAERSKA DC Equity, we have 90821 data\n",
      "For the stock MAERSKB DC Equity, we have 108893 data\n",
      "For the stock MEO1V FH Equity, we have 108047 data\n",
      "For the stock MHG NO Equity, we have 110685 data\n",
      "For the stock MTGB SS Equity, we have 91581 data\n",
      "For the stock NAS NO Equity, we have 62394 data\n",
      "For the stock NDA DC Equity, we have 240120 data\n",
      "For the stock NDA SS Equity, we have 344362 data\n",
      "For the stock NDA1V FH Equity, we have 300008 data\n",
      "For the stock NES1V FH Equity, we have 103566 data\n",
      "For the stock NHY NO Equity, we have 185307 data\n",
      "For the stock NOK1V FH Equity, we have 442833 data\n",
      "For the stock NOKISEK SS Equity, we have 467978 data\n",
      "For the stock NOVOB DC Equity, we have 361245 data\n",
      "For the stock NRE1V FH Equity, we have 184655 data\n",
      "For the stock NZYMB DC Equity, we have 223790 data\n",
      "For the stock OPERA NO Equity, we have 71105 data\n",
      "For the stock ORK NO Equity, we have 65284 data\n",
      "For the stock ORNBV FH Equity, we have 52571 data\n",
      "For the stock OTE1V FH Equity, we have 45702 data\n",
      "For the stock OUT1V FH Equity, we have 149818 data\n",
      "For the stock PGS NO Equity, we have 103993 data\n",
      "For the stock PNDORA DC Equity, we have 119043 data\n",
      "For the stock RCL NO Equity, we have 76708 data\n",
      "For the stock REC NO Equity, we have 56036 data\n",
      "For the stock SAMAS FH Equity, we have 154596 data\n",
      "For the stock SAND SS Equity, we have 185726 data\n",
      "For the stock SCAB SS Equity, we have 121826 data\n",
      "For the stock SCH NO Equity, we have 74471 data\n",
      "For the stock SDRL NO Equity, we have 216365 data\n",
      "For the stock SEBA SS Equity, we have 155108 data\n",
      "For the stock SECUB SS Equity, we have 63344 data\n",
      "For the stock SHBA SS Equity, we have 189585 data\n",
      "For the stock SKAB SS Equity, we have 144244 data\n",
      "For the stock SKFB SS Equity, we have 307016 data\n",
      "For the stock SSABA SS Equity, we have 148484 data\n",
      "For the stock STB NO Equity, we have 76967 data\n",
      "For the stock STERV FH Equity, we have 98109 data\n",
      "For the stock STL NO Equity, we have 236673 data\n",
      "For the stock SUBC NO Equity, we have 112393 data\n",
      "For the stock SWEDA SS Equity, we have 265033 data\n",
      "For the stock SWMA SS Equity, we have 107963 data\n",
      "For the stock TDC DC Equity, we have 45942 data\n",
      "For the stock TEL NO Equity, we have 127498 data\n",
      "For the stock TEL2B SS Equity, we have 115112 data\n",
      "For the stock TGS NO Equity, we have 74009 data\n",
      "For the stock TIE1V FH Equity, we have 44002 data\n",
      "For the stock TLS1V FH Equity, we have 133670 data\n",
      "For the stock TLSN SS Equity, we have 163140 data\n",
      "For the stock TRYG DC Equity, we have 63648 data\n",
      "For the stock UPM1V FH Equity, we have 135401 data\n",
      "For the stock VALMT FH Equity, we have 29319 data\n",
      "For the stock VOLVB SS Equity, we have 339214 data\n",
      "For the stock VWS DC Equity, we have 190850 data\n",
      "For the stock WDH DC Equity, we have 29740 data\n",
      "For the stock WRT1V FH Equity, we have 104221 data\n",
      "For the stock YAR NO Equity, we have 108439 data\n",
      "For the stock YTY1V FH Equity, we have 35811 data\n"
     ]
    }
   ],
   "source": [
    "for stock, df in grouped:\n",
    "    print(f'For the stock {stock}, we have {len(df)} data')"
   ]
  },
  {
   "cell_type": "code",
   "execution_count": 17,
   "metadata": {},
   "outputs": [
    {
     "data": {
      "text/plain": [
       "Stock identifier    0\n",
       "Bid Price           0\n",
       "Ask Price           0\n",
       "Trade Price         0\n",
       "Bid Volume          0\n",
       "Ask Volume          0\n",
       "Trade Volume        0\n",
       "Update type         0\n",
       "dtype: int64"
      ]
     },
     "execution_count": 17,
     "metadata": {},
     "output_type": "execute_result"
    }
   ],
   "source": [
    "df_selected.iloc[:, :-1].isna().sum() #no missing values"
   ]
  },
  {
   "cell_type": "code",
   "execution_count": 18,
   "metadata": {},
   "outputs": [
    {
     "data": {
      "text/plain": [
       "Update type\n",
       "2    5983019\n",
       "3    5692093\n",
       "1    1516407\n",
       "8      54714\n",
       "0        396\n",
       "Name: count, dtype: int64"
      ]
     },
     "execution_count": 18,
     "metadata": {},
     "output_type": "execute_result"
    }
   ],
   "source": [
    "df_selected['Update type'].value_counts()\n",
    "#there are values not mentioned in the statement of the problem, after checking the data, \n",
    "#I suppose 8 means no change and 0 means the initial states(0 bid and zero ask)"
   ]
  },
  {
   "cell_type": "code",
   "execution_count": 19,
   "metadata": {},
   "outputs": [],
   "source": [
    "trading_time_avg = {}\n",
    "trading_time_med = {}\n",
    "trading_max_time = {}\n",
    "stock_not_liquid = []\n",
    "\n",
    "for stock, df in grouped:\n",
    "    df = df[df['Update type'] == 1].sort_index()\n",
    "    if len(df) == 0:\n",
    "        stock_not_liquid.append(stock)\n",
    "    else:\n",
    "        diff_trade = df.reset_index().groupby('Date')['index'].apply(lambda x:x.diff()).dropna()\n",
    "        trading_max_time[stock] = np.max(diff_trade).total_seconds()\n",
    "        trading_time_avg[stock] = np.mean(diff_trade).total_seconds()\n",
    "        trading_time_med[stock] = diff_trade.median().total_seconds()"
   ]
  },
  {
   "cell_type": "code",
   "execution_count": 20,
   "metadata": {},
   "outputs": [],
   "source": [
    "trading_max_time = pd.Series(trading_max_time)\n",
    "trading_time_avg = pd.Series(trading_time_avg)\n",
    "trading_time_med = pd.Series(trading_time_med)"
   ]
  },
  {
   "cell_type": "code",
   "execution_count": 21,
   "metadata": {},
   "outputs": [],
   "source": [
    "tick_time_avg = {}\n",
    "tick_time_med = {}\n",
    "tick_max_time = {}\n",
    "\n",
    "for stock, df in grouped:\n",
    "    df = df[df['Update type'] == 1].sort_index().reset_index()\n",
    "    if len(df) > 0:\n",
    "        tick_diff = df.groupby('Date')['Trade Price'].diff().fillna(0)\n",
    "        idx = tick_diff != 0\n",
    "        time_diff = df[['index', 'Date']][idx].groupby('Date')['index'].diff().dropna()\n",
    "        tick_time_avg[stock] = np.mean(time_diff).total_seconds()\n",
    "        tick_time_med[stock] = time_diff.median().total_seconds()\n",
    "        tick_max_time[stock] = np.max(time_diff).total_seconds()"
   ]
  },
  {
   "cell_type": "code",
   "execution_count": 22,
   "metadata": {},
   "outputs": [],
   "source": [
    "tick_time_avg = pd.Series(tick_time_avg)\n",
    "tick_max_time = pd.Series(tick_max_time)\n",
    "tick_time_med = pd.Series(tick_time_med)"
   ]
  },
  {
   "cell_type": "code",
   "execution_count": 23,
   "metadata": {},
   "outputs": [],
   "source": [
    "spread_bid_ask_avg = {}\n",
    "spread_bid_ask_med = {}\n",
    "\n",
    "for stock, df in grouped:\n",
    "    spread = df['Ask Price'] - df['Bid Price']\n",
    "    spread_bid_ask_avg[stock] = np.mean(spread)\n",
    "    spread_bid_ask_med[stock] = np.median(spread)"
   ]
  },
  {
   "cell_type": "code",
   "execution_count": 24,
   "metadata": {},
   "outputs": [],
   "source": [
    "spread_bid_ask_avg = pd.Series(spread_bid_ask_avg)\n",
    "spread_bid_ask_med = pd.Series(spread_bid_ask_med)"
   ]
  },
  {
   "cell_type": "code",
   "execution_count": 25,
   "metadata": {},
   "outputs": [],
   "source": [
    "digit_prx_trade = {}\n",
    "digit_vol_trade = {}\n",
    "for stock, df in grouped:\n",
    "    if stock not in stock_not_liquid:\n",
    "        vol_trade_num = df['Trade Volume'].map(lambda x:str(x)[-1])\n",
    "        prx_trade_num = df['Trade Price'].map(lambda x:str(x)[-1])\n",
    "        if (vol_trade_num == '0').any():\n",
    "            digit_vol_trade[stock] = vol_trade_num.value_counts().rank(ascending=False).loc['0']\n",
    "            \n",
    "        else:\n",
    "            digit_vol_trade[stock] = vol_trade_num.nunique() + 1\n",
    "            \n",
    "\n",
    "        if (prx_trade_num == '0').any():\n",
    "            digit_prx_trade[stock] = prx_trade_num.value_counts().rank(ascending=False).loc['0']\n",
    "        else:\n",
    "            digit_prx_trade[stock] = prx_trade_num.nunique() + 1"
   ]
  },
  {
   "cell_type": "code",
   "execution_count": 26,
   "metadata": {},
   "outputs": [],
   "source": [
    "digit_vol_trade = pd.Series(digit_vol_trade)\n",
    "digit_prx_trade = pd.Series(digit_prx_trade)"
   ]
  },
  {
   "cell_type": "code",
   "execution_count": 27,
   "metadata": {},
   "outputs": [],
   "source": [
    "digit_prx_trade_freq = {}\n",
    "digit_vol_trade_freq = {}\n",
    "for stock, df in grouped:\n",
    "    if stock not in stock_not_liquid:\n",
    "        vol_trade_num = df['Trade Volume'].map(lambda x:str(x)[-1])\n",
    "        prx_trade_num = df['Trade Price'].map(lambda x:str(x)[-1])\n",
    "        if (vol_trade_num == '0').any():\n",
    "            digit_vol_trade_freq[stock] = vol_trade_num.value_counts().loc['0'] / len(df)\n",
    "        else:\n",
    "            digit_vol_trade_freq[stock] = 0\n",
    "            \n",
    "\n",
    "        if (prx_trade_num == '0').any():\n",
    "            digit_prx_trade_freq[stock] = prx_trade_num.value_counts().loc['0'] / len(df)\n",
    "        else:\n",
    "            digit_prx_trade_freq[stock] = 0"
   ]
  },
  {
   "cell_type": "code",
   "execution_count": 28,
   "metadata": {},
   "outputs": [],
   "source": [
    "digit_vol_trade_freq = pd.Series(digit_vol_trade_freq)\n",
    "digit_prx_trade_freq = pd.Series(digit_prx_trade_freq)"
   ]
  },
  {
   "cell_type": "code",
   "execution_count": 29,
   "metadata": {},
   "outputs": [
    {
     "data": {
      "text/plain": [
       "0.48484848484848486"
      ]
     },
     "execution_count": 29,
     "metadata": {},
     "output_type": "execute_result"
    }
   ],
   "source": [
    "sum(digit_prx_trade_freq > 0.1) / len(digit_prx_trade_freq)"
   ]
  },
  {
   "cell_type": "code",
   "execution_count": 30,
   "metadata": {},
   "outputs": [
    {
     "data": {
      "text/plain": [
       "0.9696969696969697"
      ]
     },
     "execution_count": 30,
     "metadata": {},
     "output_type": "execute_result"
    }
   ],
   "source": [
    "sum(digit_vol_trade_freq > 0.1) / len(digit_vol_trade_freq)"
   ]
  },
  {
   "cell_type": "code",
   "execution_count": 52,
   "metadata": {},
   "outputs": [
    {
     "data": {
      "image/png": "[encoded data removed]",
      "text/plain": [
       "<Figure size 640x480 with 2 Axes>"
      ]
     },
     "metadata": {},
     "output_type": "display_data"
    }
   ],
   "source": [
    "fig, ax = plt.subplots(1, 2, sharey=1)\n",
    "ax[0].hist(digit_prx_trade_freq, label='Trade price')\n",
    "ax[0].set_title('Histogram for price')\n",
    "ax[1].hist(digit_vol_trade_freq, label='Trade volume')\n",
    "ax[1].set_title('Histogram for volume')\n",
    "fig.savefig(\"Frequency.png\")\n"
   ]
  },
  {
   "cell_type": "code",
   "execution_count": 32,
   "metadata": {},
   "outputs": [],
   "source": [
    "import statsmodels.api as sm"
   ]
  },
  {
   "cell_type": "code",
   "execution_count": 33,
   "metadata": {},
   "outputs": [
    {
     "name": "stderr",
     "output_type": "stream",
     "text": [
      "c:\\Users\\kaihu\\Desktop\\market_pre\\venv\\Lib\\site-packages\\statsmodels\\stats\\weightstats.py:792: RuntimeWarning: divide by zero encountered in scalar divide\n",
      "  zstat = value / std\n"
     ]
    }
   ],
   "source": [
    "#Conduct hypothesis test for each stock\n",
    "#null is the proportion should be 1/10, the alternativa is larger, which is indicated by the parameter alternative\n",
    "prx_test_res = {}\n",
    "vol_test_res = {}\n",
    "\n",
    "for stock, df in grouped:\n",
    "    if stock not in stock_not_liquid:\n",
    "        vol_trade_num = df['Trade Volume'].map(lambda x: str(x)[-1])\n",
    "        prx_trade_num = df['Trade Price'].map(lambda x: str(x)[-1])\n",
    "        \n",
    "        success_vol = (vol_trade_num == '0').sum()\n",
    "        \n",
    "        success_prx = (prx_trade_num == '0').sum()\n",
    "\n",
    "        _, p_score_vol = sm.stats.proportions_ztest(success_vol, len(df), 0.1, alternative='larger')\n",
    "        _, p_score_prx = sm.stats.proportions_ztest(success_prx, len(df), 0.1, alternative='larger')\n",
    "\n",
    "        prx_test_res[stock] = p_score_prx < 0.05  # True if we reject H0\n",
    "\n",
    "        vol_test_res[stock] = p_score_vol < 0.05  # True if we reject H0\n"
   ]
  },
  {
   "cell_type": "code",
   "execution_count": 34,
   "metadata": {},
   "outputs": [],
   "source": [
    "vol_test_res = pd.Series(vol_test_res)\n",
    "prx_test_res = pd.Series(prx_test_res)"
   ]
  },
  {
   "cell_type": "code",
   "execution_count": 36,
   "metadata": {},
   "outputs": [],
   "source": [
    "final_df = pd.concat([trading_time_avg, trading_time_med, trading_max_time, \n",
    "                      tick_time_avg, tick_max_time,tick_time_med,\n",
    "                      spread_bid_ask_avg, spread_bid_ask_med,\n",
    "                      digit_vol_trade_freq, digit_prx_trade_freq,\n",
    "                      vol_test_res, prx_test_res], axis=1)"
   ]
  },
  {
   "cell_type": "code",
   "execution_count": 38,
   "metadata": {},
   "outputs": [],
   "source": [
    "final_df.columns = ['trading_time_avg', 'trading_time_med', 'trading_max_time', \n",
    "                    'tick_time_avg', 'tick_max_time', 'tick_time_med',\n",
    "                    'spread_bid_ask_avg', 'spread_bid_ask_med',\n",
    "                    'last_digit_vol_trade_freq', 'last_digit_prx_trade_freq',\n",
    "                    'vol_test_res', 'prx_test_res']"
   ]
  },
  {
   "cell_type": "code",
   "execution_count": 40,
   "metadata": {},
   "outputs": [],
   "source": [
    "final_df.to_csv('resultData.csv')"
   ]
  }
 ],
 "metadata": {
  "kernelspec": {
   "display_name": ".venv",
   "language": "python",
   "name": "python3"
  },
  "language_info": {
   "codemirror_mode": {
    "name": "ipython",
    "version": 3
   },
   "file_extension": ".py",
   "mimetype": "text/x-python",
   "name": "python",
   "nbconvert_exporter": "python",
   "pygments_lexer": "ipython3",
   "version": "3.12.0"
  }
 },
 "nbformat": 4,
 "nbformat_minor": 2
}
